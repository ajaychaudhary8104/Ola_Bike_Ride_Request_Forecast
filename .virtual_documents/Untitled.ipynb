import numpy as np
import pandas as pd
import matplotlib.pyplot as plt
import seaborn as sb
from sklearn.model_selection import train_test_split
from sklearn.preprocessing import LabelEncoder, StandardScaler
from sklearn import metrics
from sklearn.svm import SVC
from sklearn.metrics import mean_absolute_error as mae
from sklearn.linear_model import LinearRegression, Lasso, Ridge
from sklearn.ensemble import RandomForestRegressor

import warnings
warnings.filterwarnings('ignore')


df = pd.read_csv('ola.csv')
df.head()


# season
#1.spring
#2.summer
#3.fall
#4.winter


#weather

#1.Clear, Few clouds, Partly cloudy, Partly cloudy
#2.Mist + Cloudy, Mist + Broken clouds, Mist + Few clouds, Mist
#3.Light Snow, Light Rain + Thunderstorm + Scattered clouds, Light Rain + Scattered clouds
#4.Heavy Rain + Ice Pallets + Thunderstorm + Mist, Snow + Fog


df.shape


df.info()


df.isnull().sum()


df.describe().T



